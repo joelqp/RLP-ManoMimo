{
 "cells": [
  {
   "attachments": {},
   "cell_type": "markdown",
   "metadata": {},
   "source": [
    "# LINEAR REGRESSION"
   ]
  },
  {
   "cell_type": "code",
   "execution_count": 1,
   "metadata": {},
   "outputs": [],
   "source": [
    "import numpy as np\n",
    "from sklearn.model_selection import train_test_split, cross_val_score\n",
    "from sklearn.linear_model import LinearRegression\n",
    "from sklearn.metrics import mean_squared_error, r2_score\n",
    "import pandas as pd\n",
    "import mediapipe\n",
    "from functions import *\n",
    "drawingModule = mediapipe.solutions.drawing_utils\n",
    "handsModule = mediapipe.solutions.hands\n",
    "\n",
    "\n",
    "\n",
    "videos_dir = 'videos-to-process/'\n",
    "data_dir = 'data/'\n",
    "videos = ['palm_a.mp4', 'palm_j.mp4', 'fist_a.mp4', 'fist_j.mp4']\n",
    "video_classes = ['palm', 'palm', 'fist', 'fist']\n",
    "my_classes = {'palm':0, 'fist':1}\n",
    "\n",
    "\n",
    "\n",
    "# for ind, video in enumerate(videos):\n",
    "#     #crea los frames de los videos y los guarda en el directorio data\n",
    "#     video_to_images(videos_dir+video, data_dir, video_classes[ind], ind)\n",
    "\n",
    "\n",
    "atributes = ['top angle', 'middle angle', 'bottom angle']\n",
    "target = 'class'\n",
    "\n",
    "col = atributes+[target]\n",
    "dataset = dataset_angles(data_dir, my_classes)\n",
    "\n",
    "# ahora tengo todos los datos en una lista de tuplas, cada tupla es de 2 elementos, los angulos de todos los dedos de una imagen y su clase\n",
    "# el 1º elemento de la tupla es un diccionario que tiene como clave el indice del dedo (si es el indice=0, anular=2, etc) y como valor otro diccionario\n",
    "# este otro diccionario tiene como clave el indice del angulo (superior=0, medio=1, inferior=2) y como valor el angulo en grados\n",
    "\n",
    "#ahora valos a crear 4 datasets para los 4 modelos (uno por cada dedo)\n",
    "data_frames = []\n",
    "for i in range(4):\n",
    "    data_frames.append(pd.DataFrame(columns=col))\n",
    "\n",
    "#para los 4 dedos:\n",
    "for im in dataset:\n",
    "    for f in range(4):\n",
    "        entry = im[0][f]\n",
    "        entry.append(im[1])\n",
    "        data_frames[f].loc[len(data_frames[f])] = entry\n",
    "\n",
    "\n",
    "\n"
   ]
  },
  {
   "attachments": {},
   "cell_type": "markdown",
   "metadata": {},
   "source": [
    "### Dataframe de los angulos de las articulaciones de un dedo"
   ]
  },
  {
   "cell_type": "code",
   "execution_count": 2,
   "metadata": {},
   "outputs": [
    {
     "data": {
      "text/html": [
       "<div>\n",
       "<style scoped>\n",
       "    .dataframe tbody tr th:only-of-type {\n",
       "        vertical-align: middle;\n",
       "    }\n",
       "\n",
       "    .dataframe tbody tr th {\n",
       "        vertical-align: top;\n",
       "    }\n",
       "\n",
       "    .dataframe thead th {\n",
       "        text-align: right;\n",
       "    }\n",
       "</style>\n",
       "<table border=\"1\" class=\"dataframe\">\n",
       "  <thead>\n",
       "    <tr style=\"text-align: right;\">\n",
       "      <th></th>\n",
       "      <th>top angle</th>\n",
       "      <th>middle angle</th>\n",
       "      <th>bottom angle</th>\n",
       "      <th>class</th>\n",
       "    </tr>\n",
       "  </thead>\n",
       "  <tbody>\n",
       "    <tr>\n",
       "      <th>0</th>\n",
       "      <td>132.838339</td>\n",
       "      <td>172.521622</td>\n",
       "      <td>157.786395</td>\n",
       "      <td>0.0</td>\n",
       "    </tr>\n",
       "    <tr>\n",
       "      <th>1</th>\n",
       "      <td>132.568429</td>\n",
       "      <td>172.353556</td>\n",
       "      <td>157.900961</td>\n",
       "      <td>0.0</td>\n",
       "    </tr>\n",
       "    <tr>\n",
       "      <th>2</th>\n",
       "      <td>131.997355</td>\n",
       "      <td>172.588453</td>\n",
       "      <td>160.178676</td>\n",
       "      <td>0.0</td>\n",
       "    </tr>\n",
       "    <tr>\n",
       "      <th>3</th>\n",
       "      <td>133.310294</td>\n",
       "      <td>173.015839</td>\n",
       "      <td>159.568185</td>\n",
       "      <td>0.0</td>\n",
       "    </tr>\n",
       "    <tr>\n",
       "      <th>4</th>\n",
       "      <td>133.520204</td>\n",
       "      <td>173.228189</td>\n",
       "      <td>159.114632</td>\n",
       "      <td>0.0</td>\n",
       "    </tr>\n",
       "    <tr>\n",
       "      <th>...</th>\n",
       "      <td>...</td>\n",
       "      <td>...</td>\n",
       "      <td>...</td>\n",
       "      <td>...</td>\n",
       "    </tr>\n",
       "    <tr>\n",
       "      <th>61</th>\n",
       "      <td>143.877067</td>\n",
       "      <td>139.958097</td>\n",
       "      <td>89.697246</td>\n",
       "      <td>1.0</td>\n",
       "    </tr>\n",
       "    <tr>\n",
       "      <th>62</th>\n",
       "      <td>120.221824</td>\n",
       "      <td>64.333957</td>\n",
       "      <td>119.356103</td>\n",
       "      <td>1.0</td>\n",
       "    </tr>\n",
       "    <tr>\n",
       "      <th>63</th>\n",
       "      <td>115.217105</td>\n",
       "      <td>75.397800</td>\n",
       "      <td>105.390134</td>\n",
       "      <td>1.0</td>\n",
       "    </tr>\n",
       "    <tr>\n",
       "      <th>64</th>\n",
       "      <td>118.545439</td>\n",
       "      <td>68.471966</td>\n",
       "      <td>118.660265</td>\n",
       "      <td>1.0</td>\n",
       "    </tr>\n",
       "    <tr>\n",
       "      <th>65</th>\n",
       "      <td>118.248796</td>\n",
       "      <td>93.340580</td>\n",
       "      <td>114.157364</td>\n",
       "      <td>1.0</td>\n",
       "    </tr>\n",
       "  </tbody>\n",
       "</table>\n",
       "<p>66 rows × 4 columns</p>\n",
       "</div>"
      ],
      "text/plain": [
       "     top angle  middle angle  bottom angle  class\n",
       "0   132.838339    172.521622    157.786395    0.0\n",
       "1   132.568429    172.353556    157.900961    0.0\n",
       "2   131.997355    172.588453    160.178676    0.0\n",
       "3   133.310294    173.015839    159.568185    0.0\n",
       "4   133.520204    173.228189    159.114632    0.0\n",
       "..         ...           ...           ...    ...\n",
       "61  143.877067    139.958097     89.697246    1.0\n",
       "62  120.221824     64.333957    119.356103    1.0\n",
       "63  115.217105     75.397800    105.390134    1.0\n",
       "64  118.545439     68.471966    118.660265    1.0\n",
       "65  118.248796     93.340580    114.157364    1.0\n",
       "\n",
       "[66 rows x 4 columns]"
      ]
     },
     "execution_count": 2,
     "metadata": {},
     "output_type": "execute_result"
    }
   ],
   "source": [
    "data_frames[0]"
   ]
  },
  {
   "attachments": {},
   "cell_type": "markdown",
   "metadata": {},
   "source": [
    "### GRAFICO DE DISPERSION\n",
    "generamos una nube de puntos para ver la correlacion entre una de las articulaciones y la clase (si las falanges estan extendidas o flexionadas)"
   ]
  },
  {
   "cell_type": "code",
   "execution_count": 3,
   "metadata": {},
   "outputs": [
    {
     "name": "stderr",
     "output_type": "stream",
     "text": [
      "C:\\Users\\joelq\\AppData\\Local\\Packages\\PythonSoftwareFoundation.Python.3.9_qbz5n2kfra8p0\\LocalCache\\local-packages\\Python39\\site-packages\\pandas\\plotting\\_matplotlib\\core.py:1114: UserWarning: No data for colormapping provided via 'c'. Parameters 'cmap' will be ignored\n",
      "  scatter = ax.scatter(\n"
     ]
    },
    {
     "data": {
      "text/plain": [
       "<AxesSubplot: xlabel='middle angle', ylabel='class'>"
      ]
     },
     "execution_count": 3,
     "metadata": {},
     "output_type": "execute_result"
    },
    {
     "data": {
      "image/png": "[encoded data removed]",
      "text/plain": [
       "<Figure size 1440x576 with 1 Axes>"
      ]
     },
     "metadata": {
      "needs_background": "light"
     },
     "output_type": "display_data"
    }
   ],
   "source": [
    "#ejemplo de la articulacion del medio del dedo manular\n",
    "data_frames[2].plot.scatter(figsize=(20, 8), s=10, x='middle angle', y='class')"
   ]
  },
  {
   "attachments": {},
   "cell_type": "markdown",
   "metadata": {},
   "source": [
    "### Regresion lineal y evaluacion (MSE Y R^2)\n",
    "Segun un analisis, escogemos un modelo de regresion lineal."
   ]
  },
  {
   "cell_type": "code",
   "execution_count": 6,
   "metadata": {},
   "outputs": [
    {
     "name": "stdout",
     "output_type": "stream",
     "text": [
      "Error cuadrático medio (MSE): 0.01046541026097699\n",
      "Coeficiente de determinación (R^2): 0.9544173241966335\n"
     ]
    }
   ],
   "source": [
    "from sklearn.model_selection import train_test_split\n",
    "#entrenar modelo para el dedo indice=2\n",
    "\n",
    "X = data_frames[0][data_frames[0].columns[:-1]]\n",
    "y = data_frames[0][data_frames[0].columns[-1]]\n",
    "X_train, X_test, y_train, y_test = train_test_split(X, y, test_size=0.2)\n",
    "# Creación del modelo de regresión lineal\n",
    "model = LinearRegression()\n",
    "\n",
    "# Entrenamiento del modelo\n",
    "model.fit(X_train, y_train)\n",
    "\n",
    "# Predicción en el conjunto de prueba\n",
    "y_pred = model.predict(X_test)\n",
    "\n",
    "# Evaluación del modelo\n",
    "mse = mean_squared_error(y_test, y_pred)\n",
    "r2 = r2_score(y_test, y_pred)\n",
    "\n",
    "print(\"Error cuadrático medio (MSE):\", mse)\n",
    "print(\"Coeficiente de determinación (R^2):\", r2)\n",
    "\n",
    "# Validación cruzada (añadir muchos mas datos para aplicar esta evaluacion)\n",
    "#cv_scores = cross_val_score(model, X, y, cv=3)  # 5-fold cross-validation\n",
    "\n",
    "# print(\"Puntuaciones de validación cruzada:\", cv_scores)\n",
    "# print(\"Puntuación media de validación cruzada:\", np.mean(cv_scores))"
   ]
  },
  {
   "attachments": {},
   "cell_type": "markdown",
   "metadata": {},
   "source": [
    "Segun la evaluacion tenemos un error casi imperceptible, por lo tanto nuestro modelo queda validado"
   ]
  },
  {
   "attachments": {},
   "cell_type": "markdown",
   "metadata": {},
   "source": [
    "### Ejemplo de prediccion\n",
    "Probamos un ejemplo de una imagen donde tenemos el dedo anular extendido, y por lo tanto el servomotor de ese dedo no tiene\n",
    "que tirar del tendon, asi que deberia predecir un valor ≈ 0%"
   ]
  },
  {
   "cell_type": "code",
   "execution_count": 15,
   "metadata": {},
   "outputs": [
    {
     "name": "stdout",
     "output_type": "stream",
     "text": [
      " el tendon tiene que y_pred: -7.26%\n"
     ]
    }
   ],
   "source": [
    "#ejemplo de prediccion de la foto de una mano, para el dedo anular\n",
    "#(en la foto la mano esta abierta por tanto del rango 0-1 tiene que ser masomenos 0)\n",
    "import mediapipe as mp\n",
    "mp_hands = mp.solutions.hands\n",
    "with mp_hands.Hands(static_image_mode=True, max_num_hands=1, min_detection_confidence=0.5) as hands:\n",
    "    image = cv.imread('m3.JPEG')\n",
    "    # Convert the BGR image to RGB before processing.\n",
    "    results = hands.process(cv.cvtColor(image, cv.COLOR_BGR2RGB))\n",
    "    if not results.multi_hand_landmarks:\n",
    "        print(f'NO RESULTS:')\n",
    "    angles = calculate_the_angles(results.multi_hand_landmarks[0])\n",
    "    m = [(angles,0.80)]\n",
    "\n",
    "dm = pd.DataFrame(columns=col)\n",
    "entry = im[0][f]\n",
    "entry.append(im[1])\n",
    "dm.loc[len(dm)] = angles[2]+[0.8]\n",
    "dm[dm.columns[:-1]]\n",
    "y_pred = model.predict(dm[dm.columns[:-1]])\n",
    "print(f' el tendon tiene que y_pred: {y_pred[0]*100:.2f}%')\n"
   ]
  }
 ],
 "metadata": {
  "kernelspec": {
   "display_name": "Python 3",
   "language": "python",
   "name": "python3"
  },
  "language_info": {
   "codemirror_mode": {
    "name": "ipython",
    "version": 3
   },
   "file_extension": ".py",
   "mimetype": "text/x-python",
   "name": "python",
   "nbconvert_exporter": "python",
   "pygments_lexer": "ipython3",
   "version": "3.9.13"
  },
  "orig_nbformat": 4
 },
 "nbformat": 4,
 "nbformat_minor": 2
}
